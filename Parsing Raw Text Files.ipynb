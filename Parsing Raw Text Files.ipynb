{
 "cells": [
  {
   "cell_type": "markdown",
   "metadata": {},
   "source": [
    "# Task A: Parsing Raw Text Files\n",
    "#### Name: Rohit Sanjay Tapas\n",
    "\n",
    "Environment: Python 3 and Jupyter notebook\n",
    "\n",
    "Libraries used: \n",
    "* re (for regular expression, included in Anaconda Python 3) \n",
    "* json (for converting txt file to json format)\n",
    "\n",
    "\n",
    "## 1. Introduction\n",
    "This program extracts data from semi structured html file. The html file consists of data from the Monash unit handbook.\n",
    "Each unit has the following data:\n",
    "* Unit code\n",
    "* Pre-requisite units for the unit\n",
    "* Prohibitions (The units which can not be taken in order to study the unit)\n",
    "* Synopsis of the unit\n",
    "* Requirements for the unit\n",
    "* Outcomes of the unit\n",
    "* Chief Examiners which will be examining the unit.\n",
    "\n",
    "The RE library was used to extract all the reqiured elements from the html file.\n",
    "The extracted elements are then printed inside the appropriate xml and json tags.\n",
    "\n",
    "The json library is then used to format and indent the json file appropriately.\n"
   ]
  },
  {
   "cell_type": "markdown",
   "metadata": {},
   "source": [
    "## 2.  Import libraries "
   ]
  },
  {
   "cell_type": "code",
   "execution_count": 44,
   "metadata": {},
   "outputs": [],
   "source": [
    "import re\n",
    "import json"
   ]
  },
  {
   "cell_type": "markdown",
   "metadata": {},
   "source": [
    "## 3.  Open files\n",
    "* in my_file enter the name of the data file\n",
    "* file is the name of the output file to write the xml data\n",
    "* file1 is the name of the output file to write the temporary json data. The final json output file will be created later.\n"
   ]
  },
  {
   "cell_type": "code",
   "execution_count": 45,
   "metadata": {},
   "outputs": [],
   "source": [
    "my_file = open('29812135.txt','r')       #open data file\n",
    "file = open(\"task1_29812135.xml\",\"w\")              #open file to write xml output\n",
    "file1 = open(\"A2.txt\",\"w\")             #open file to write json output\n",
    "my = my_file.read()"
   ]
  },
  {
   "cell_type": "markdown",
   "metadata": {},
   "source": [
    "## 4.  Initialize lists\n",
    "* lists are inititialized to store the extracted data"
   ]
  },
  {
   "cell_type": "code",
   "execution_count": 46,
   "metadata": {},
   "outputs": [],
   "source": [
    "UnitTitle = []\n",
    "UnitCode =[]\n",
    "Synopsis = []\n",
    "Examiner = []\n",
    "ExaminerFinal = []\n",
    "Prohibitions = []\n",
    "Outcomes = []\n",
    "OutcomesFinal = []\n",
    "Req = []\n",
    "ReqFinal = []\n",
    "PreReq = []"
   ]
  },
  {
   "cell_type": "markdown",
   "metadata": {},
   "source": [
    "## 5.  Cleaning data by using Regular Expressions\n",
    "\n",
    "* The raw data is in html format. So, the data which we need is enclosed between some tags. To extract this data we have used Regular Expressions.\n",
    "* The initial regex finds the entire block of data we need and the secondary regex filters out the unwanted tags, leaving us with only the clean data."
   ]
  },
  {
   "cell_type": "markdown",
   "metadata": {},
   "source": [
    "### 5.1 Extracting all the required elements from the semi structured data and writing them into files\n",
    "The unit codes, titles, synopsis, prerequisites, prohibitions, requirements, outcomes and chief examiners are extracted from the uncleaned data and written into files."
   ]
  },
  {
   "cell_type": "code",
   "execution_count": 47,
   "metadata": {
    "scrolled": true
   },
   "outputs": [
    {
     "data": {
      "text/plain": [
       "8"
      ]
     },
     "execution_count": 47,
     "metadata": {},
     "output_type": "execute_result"
    }
   ],
   "source": [
    "main_filter = re.findall('<div class(.*?)<!-- /.content-inner__main --></div>',my,re.DOTALL|re.MULTILINE)     #RE to filter each unit chunk\n",
    "UnitPatt = re.compile('[e][\\\"][>][A-Z][A-Z][A-Z]\\d\\d\\d\\d|[e][\\\"][>][A-Z][A-Z][A-Z][A-Z]\\d\\d\\d\\d')  #RE to find unit codes and titles\n",
    "FilterUnits = re.compile('[e][\\\"][>]')               #RE to filter unit codes\n",
    "FilterTitle = re.compile('</span> - (.+)<span')      #RE to filter unit titles\n",
    "FilterSyn1 = re.compile('<div>|<p>|</div>|</p>|\\\\\\n|\\a|\\\\|\"]|\"|]\"')\n",
    "FilterSyn2 = re.compile('<h2(.*?)<div>|<span(.*?)</span>')           #RE to filter unit synopsis\n",
    "Exam1 = re.compile('<div>|<p>|</div>|</p>|\\a|\\(s\\)|</a>')           \n",
    "Exam2 = re.compile('<span(.*?)</span>|</a(.*?)\">|<a(.*?)\">|<p class(.*?)</p>|http(.*?).html|Researcher Profile')  #RE to filter chief examiners\n",
    "Pro2 = re.compile('(<span(.*?).html\">)|<span(.*?)</span>') #RE to filter prohibitions\n",
    "Pro3 = re.compile('</span>|</a>|</>\\\\|<>|</p>|<p>')\n",
    "OutFil1 = re.compile('<div>|\\\\|<p>|</div>|</p>|\\\\|\\a|\\(s\\)|</a>|<li>|</li>|</ol>|</h2>|</span>|<ul>|</ul>|\"')\n",
    "OutFil2 = re.compile('<div>(.*?)1\">|<ol(.*?)\">|</ol>|<span(.*?)l\">') #RE to filter outcomes\n",
    "ReqFil = re.compile('<div>|</h2>|</div>|</p>|\\n|\\a|<li>|</li>|<ul>|</ul>|<a>|</a>|\\n\\n|<p>|<h2(.*?)</h2>|<ol(.*?)\">|</ol>|<a class(.*?)\">|<span class(.*?)</span>|\"')\n",
    "PReqFil = re.compile('(<span(.*?).html\">)')  #RE to filter prerequisites\n",
    "file1.write('{\\n\"units\": {\\n')\n",
    "file1.write('\"unit\": [\\n')\n",
    "file.write(\"<units>\\n\")\n",
    "m = len(main_filter)\n",
    "p = 1\n",
    "for each in main_filter:\n",
    "        a = UnitPatt.findall(each)                        #Find all unit codes\n",
    "        UnitTemp = FilterUnits.sub(\"\",str(a))\n",
    "        UnitTemp = UnitTemp.replace(\"['\",\"\")\n",
    "        UnitTemp = UnitTemp.replace(\"']\",\"\")\n",
    "        UnitCode.append(UnitTemp)\n",
    "        file1.write('{\\n\"@id\": \"' + str(UnitTemp) + '\",\\n')  #write unit code to json file\n",
    "        file.write('<unit id=\"' + str(UnitTemp) + '\">\\n')    #write unit code to xml file\n",
    "        re.search(r'</span> - (.+)<span',each)               #find all unit titles\n",
    "        TitleTemp = FilterTitle.findall(each)\n",
    "        UnitTitle.append(TitleTemp)\n",
    "        file1.write('\"title\": \"'+str(TitleTemp[0]+ '\",\\n'))   #write unit pattern to json file\n",
    "        file.write(\"<title>\" + str(TitleTemp[0]) + \"</title>\\n\")  #write unit pattern to xml file\n",
    "        \n",
    "        \n",
    "        b = re.findall(r'<h2 class=\"hbk-heading\">Synopsis<\\/h2>\\n<div>(.*?)</p>',each,re.DOTALL|re.MULTILINE)  #find synopsis\n",
    "        SynTemp= FilterSyn2.sub('',str(b))  \n",
    "        SynFinal= FilterSyn1.sub('',str(SynTemp))\n",
    "        SynFinal = SynFinal.split('\\\\n')\n",
    "        SynFinal = SynFinal[1].replace(\"['\",\"\")\n",
    "        SynFinal = SynFinal.replace(\"']\",\"\")\n",
    "        SynFinal = SynFinal.replace('\"]',\"\")\n",
    "        Synopsis.append(SynFinal)\n",
    "        file1.write('\"synopsis\": \"'+str(SynFinal)+ '\",\\n')             #write unit synopsis to json file\n",
    "        file.write(\"<synopsis>\\n\" + str(SynFinal) + \"\\n</synopsis>\\n\") #write unit synopsis to xml file\n",
    "        \n",
    "        \n",
    "        c = re.findall(r'heading\">Prerequisites</p>(.*?)</p>\\n</div>',each,re.DOTALL|re.MULTILINE)  #find all prerequisites\n",
    "        PReqTemp = Pro2.sub('',str(c))\n",
    "        PReqTempo = Pro3.sub(\"\",str(PReqTemp))\n",
    "        PReqFinal = re.findall(\"[A-Z][A-Z][A-Z]\\d\\d\\d\\d|[A-Z][A-Z][A-Z][A-Z]\\d\\d\\d\\d\",PReqTempo)  \n",
    "        if len(PReqFinal) == 0:                                        #check if prerequisites present\n",
    "            file1.write('\"pre_requistics\": \"NA\",\\n')                   #if none then print NA\n",
    "            file.write(\"<pre_requistics> NA </pre_requistics>\\n\")\n",
    "            #print(PReqTempo)\n",
    "        elif len(PReqFinal) == 1:                                      #if only one prerequisite print according to file structure\n",
    "            file1.write('\"pre_requistics\": {\\n')\n",
    "            file1.write('\"pre_requistic\": \"'+str(PReqFinal[0])+ '\"\\n')\n",
    "            file1.write('},\\n')\n",
    "            file.write(\"<pre_requistics>\\n\")\n",
    "            file.write(\"<pre_requistic>\" + str(PReqFinal[0]) + \"</pre_requistic>\\n\")\n",
    "            file.write(\"</pre_requistics>\\n\")\n",
    "            \n",
    "        else:\n",
    "            file1.write('\"pre_requistics\": {\\n')                       #if multiple prerequisites print according to file structure\n",
    "            file1.write('\"pre_requistic\": [\\n')\n",
    "            file.write(\"<pre_requistics>\\n\")\n",
    "            last1 = PReqFinal.pop()\n",
    "            for eacha in PReqFinal:  \n",
    "                if len(PReqFinal)>0:                    \n",
    "                    file1.write('\"'+str(eacha)+'\",\\n')\n",
    "                    file.write(\"<pre_requistic>\" + str(eacha) + \"</pre_requistic>\\n\")\n",
    "            file.write(\"<pre_requistic>\" + str(last1) + \"</pre_requistic>\\n\")\n",
    "            file1.write('\"'+str(last1)+'\"\\n')\n",
    "            file1.write(']\\n},\\n')\n",
    "            file.write(\"</pre_requistics>\\n\")\n",
    "        if len(PReqFinal)>0:\n",
    "             PreReq.append(PReqFinal)\n",
    "        else:\n",
    "            PreReq.append([\"NA\"])\n",
    "        \n",
    "                \n",
    "        d = re.findall(r'<p class=\"hbk-preamble-heading\">Prohibitions(.*?)</div>',each,re.DOTALL|re.MULTILINE)  #find all prohibitions\n",
    "        ProTemp = Pro2.sub('',str(d))\n",
    "        ProTempo = Pro3.sub(\"\",str(ProTemp))\n",
    "        \n",
    "        ProFinal = re.findall(\"[A-Z][A-Z][A-Z]\\d\\d\\d\\d|[A-Z][A-Z][A-Z][A-Z]\\d\\d\\d\\d\",ProTempo)  \n",
    "        if len(ProFinal) == 0:                                                                 #check if prohibitions present\n",
    "            file1.write('\"prohibisions\": \"NA\",\\n')\n",
    "            file.write(\"<prohibisions> NA </prohibisions>\\n\")                               #if no prohibitions then print NA\n",
    "        elif len(ProFinal) == 1:                                                            #if one prohiition print according to file structure\n",
    "            file1.write('\"prohibisions\": {\\n')\n",
    "            file1.write('\"prohibision\": \"'+str(ProFinal[0]+ '\"\\n'))\n",
    "            file1.write('},\\n')\n",
    "            file.write(\"<prohibisions>\\n\")\n",
    "            file.write(\"<prohibision>\" + str(ProFinal[0]) + \"</prohibision>\\n\")\n",
    "            file.write(\"</prohibisions>\\n\")\n",
    "        else:                                                                               #if more than one prohibition print according to file structure\n",
    "            file1.write('\"prohibisions\": {\\n')\n",
    "            file1.write('\"prohibision\": [\\n')\n",
    "            file.write(\"<prohibisions>\\n\")\n",
    "            last = ProFinal.pop()\n",
    "            for eacha in ProFinal:   \n",
    "                if len(ProFinal)>0:\n",
    "                    file1.write('\"'+str(eacha)+'\",\\n')\n",
    "                    file.write(\"<prohibision>\" + str(eacha) + \"</prohibision>\\n\")            \n",
    "            file1.write('\"'+str(last)+'\"\\n')\n",
    "            file1.write(']\\n},\\n')\n",
    "            file.write(\"<prohibision>\" + str(last) + \"</prohibision>\\n\")\n",
    "            file.write(\"</prohibisions>\\n\")\n",
    "        if len(ProFinal)>0:\n",
    "             Prohibitions.append(ProFinal)\n",
    "        else:\n",
    "            Prohibitions.append([\"NA\"])\n",
    "\n",
    "                \n",
    "        \n",
    "        f = re.findall(r'<h2 class=\"hbk-heading\">Assessment(.*?)</div>',each,re.DOTALL|re.MULTILINE) #find all requirements\n",
    "        ReqTemp = ReqFil.sub('',str(f))\n",
    "        Req.append(ReqTemp)\n",
    "        if len(ReqTemp) > 4:\n",
    "            Req1 = ReqTemp.split('\\\\n')\n",
    "            \n",
    "            \n",
    "        if len(ReqTemp) == 0:                                         #if no requirements then print NA\n",
    "            file1.write('\"requirements\": \"NA\",\\n')\n",
    "            file.write(\"<requirements> NA </requirements>\\n\")\n",
    "             \n",
    "        elif len(Req1) == 4:                                          #if one requirement print according to file structure\n",
    "            file.write(\"<requirements>\\n\")\n",
    "            file1.write('\"requirements\": {\\n')\n",
    "            file1.write('\"requirement\": ')\n",
    "            for eacha in Req1:   \n",
    "                if len(eacha)>3:\n",
    "                    file.write(\"<requirement>\" + str(eacha) + \"</requirement>\\n\")\n",
    "                    file1.write('\"'+str(eacha)+'\"')                            \n",
    "            file1.write('\\n},\\n')\n",
    "            file.write(\"</requirements>\\n\")\n",
    "        \n",
    "        else:                                                        #if more than one requirements print according to file structure\n",
    "            file1.write('\"requirements\": {\\n')\n",
    "            file1.write('\"requirement\": [\\n')\n",
    "            \n",
    "            file.write(\"<requirements>\\n\")\n",
    "            last = Req1.pop(-2)\n",
    "            for eacha in Req1:   \n",
    "                if len(eacha)>3:\n",
    "                    file1.write('\"'+str(eacha)+'\",\\n')\n",
    "                    file.write(\"<requirement>\" + str(eacha) + \"</requirement>\\n\")          \n",
    "            file1.write('\"'+str(last)+'\"\\n')\n",
    "            file1.write(']\\n},\\n')\n",
    "            file.write(\"<requirement>\" + str(last) + \"</requirement>\\n\")\n",
    "            file.write(\"</requirements>\\n\")\n",
    "        \n",
    "        if len(ReqTemp) > 4:\n",
    "            Req1 = ReqTemp.split('\\\\n')\n",
    "            ReqFinal.append(Req1)\n",
    "        else:\n",
    "            ReqFinal.append([\"NA\"])\n",
    "        \n",
    "        \n",
    "        \n",
    "        e = re.findall(r'<h2 class=\"hbk-heading\">Outcomes(.*?)</div>',each,re.DOTALL|re.MULTILINE)  #find all outcomes\n",
    "        #print(a)\n",
    "        OutTemp= OutFil2.sub('',str(e))\n",
    "        OutFinal= OutFil1.sub('',str(OutTemp))\n",
    "        #print(OutFinal)\n",
    "        Outcomes.append(OutFinal)\n",
    "        if len(OutFinal) > 4:                                  #if no outcomes then print NA\n",
    "            Out1 = OutFinal.split('\\\\n')\n",
    "        if len(OutFinal) == 0:\n",
    "            file1.write('\"outcomes\": \"NA\",\\n')\n",
    "            file.write(\"<outcomes> NA </outcomes>\\n\")\n",
    "            \n",
    "        else:\n",
    "            file1.write('\"outcomes\": {\\n')                    #if outcomes are present then print according to file structure\n",
    "            file1.write('\"outcome\": [\\n')\n",
    "            file.write(\"<outcomes>\\n\")\n",
    "            last = Out1.pop(-3)\n",
    "            for eacha in Out1:   \n",
    "                if len(eacha)>3:\n",
    "                    file1.write('\"'+str(eacha)+'\",\\n')\n",
    "                    file.write(\"<outcome>\\n\" + str(eacha) + \"\\n</outcome>\\n\")          \n",
    "            file1.write('\"'+str(last)+'\"\\n')\n",
    "            file1.write(']\\n},\\n')\n",
    "            file.write(\"<outcome>\\n\" + str(last) + \"\\n</outcome>\\n\")\n",
    "            file.write(\"</outcomes>\\n\")\n",
    "         \n",
    "        if len(OutFinal)>4:\n",
    "            Out1 = OutFinal.split('\\\\n')\n",
    "            OutcomesFinal.append(Out1)\n",
    "        else:\n",
    "            OutcomesFinal.append([\"NA\"])\n",
    "        \n",
    "        \n",
    "                \n",
    "        c = re.findall(r'<p class=\"hbk-highlight-heading\">Chief examiner(.*?)<br/>',each,re.DOTALL|re.MULTILINE) #find all chief examiners\n",
    "        ExamTemp= Exam2.sub('',str(c))\n",
    "        ExamFinal = re.sub(\"<div>|<p>|</div>|</p>|\\a|\\(s\\)|</a>|\\\\n\",\"\",ExamTemp)\n",
    "        Examiner.append(ExamFinal)\n",
    "        \n",
    "        #print(ExamFinal)\n",
    "        if len(ExamFinal) > 4:\n",
    "            Exam1 = ExamFinal.split('\\\\n')\n",
    "        if len(ExamFinal) == 0:                                             #if no chief examiners then print NA\n",
    "            file1.write('\"chief_examiner\": \"TBA\",\\n')\n",
    "            file.write(\"<chief_examiners> TBA </chief_examiners>\\n\")\n",
    "            \n",
    "        else:\n",
    "            file1.write('\"chief_examiners\": {\\n')                           #if chief examiners present then print according to the file structure\n",
    "            file1.write('\"chief_examiner\": ')\n",
    "            file.write(\"<chief_examiners>\\n\")\n",
    "              \n",
    "            if len(Exam1)>3:\n",
    "                file1.write('\"'+str(Exam1[2])+'\"\\n')\n",
    "                file.write(\"<chief_examiner>\" + str(Exam1[2]) + \"</chief_examiner>\\n\")          \n",
    "            if p < m:\n",
    "                file1.write('}\\n},\\n')\n",
    "            else:\n",
    "                file1.write('}\\n}\\n')\n",
    "            p = p+1\n",
    "            file.write(\"</chief_examiners>\\n\")\n",
    "            file.write(\"</unit>\\n\")\n",
    "                \n",
    "        if len(ExamFinal) > 4:\n",
    "            Exam1 = ExamFinal.split('\\\\n')\n",
    "            ExaminerFinal.append(Exam1)\n",
    "        else:\n",
    "            ExaminerFinal.append([\"TBA\"])\n",
    "file1.write(']\\n}\\n}')\n",
    "file.write(\"</units>\")        \n"
   ]
  },
  {
   "cell_type": "markdown",
   "metadata": {},
   "source": [
    "### Unclean data:\n",
    "\n",
    "For example, here the synopsis of the unit is enclosed between \"h2 class=\"hbk-heading\"Synopsis\" and \"/div>\"\n",
    "Hence we extract this chunk with our primary regex.\n",
    "\n",
    "Next, with out secondary regex, we remove the unwanted '<div' and '<p' tags\n",
    "\n",
    "### Cleaned data\n",
    "\n",
    "The same approach has been used to extract all the required fields."
   ]
  },
  {
   "cell_type": "markdown",
   "metadata": {},
   "source": [
    "### 6. Close files"
   ]
  },
  {
   "cell_type": "code",
   "execution_count": 48,
   "metadata": {},
   "outputs": [],
   "source": [
    "file.close()                                            #close xml file\n",
    "file1.close()                                           #close json file"
   ]
  },
  {
   "cell_type": "markdown",
   "metadata": {},
   "source": [
    "### 7. Clean JSON file\n",
    "* Backslashes in the temporary json output file are cleaned as they can not be parsed by json"
   ]
  },
  {
   "cell_type": "code",
   "execution_count": 49,
   "metadata": {},
   "outputs": [],
   "source": [
    "file3 = open(\"A3.txt\",\"w\")                              #cleaning json file\n",
    "text = open(\"A2.txt\",'r')\n",
    "text1 = text.readlines()\n",
    "abc = re.compile('\\\\\\\\|;')\n",
    "for each in text1:\n",
    "    each = abc.sub(\"\",str(each))\n",
    "    file3.write(each)\n",
    "file3.close()"
   ]
  },
  {
   "cell_type": "markdown",
   "metadata": {},
   "source": [
    "### 8. Print clean structured json file\n",
    "* Clean json output file with indentation is generated"
   ]
  },
  {
   "cell_type": "code",
   "execution_count": 50,
   "metadata": {},
   "outputs": [],
   "source": [
    "with open('task1_29812135.json','w') as outfile:                #printing extracted json file in clean json structure\n",
    "    with open('A3.txt') as jsonfile:\n",
    "        parsed = json.load(jsonfile)\n",
    "        json.dump(parsed,outfile,indent=2)"
   ]
  },
  {
   "cell_type": "markdown",
   "metadata": {},
   "source": [
    "## 9. Summary\n",
    "* Hence with the use of Regex and json libraries, we have succesfully extracted data from semi structured format and converted it into structured forms i.e. .xml and .json"
   ]
  }
 ],
 "metadata": {
  "kernelspec": {
   "display_name": "Python 3",
   "language": "python",
   "name": "python3"
  },
  "language_info": {
   "codemirror_mode": {
    "name": "ipython",
    "version": 3
   },
   "file_extension": ".py",
   "mimetype": "text/x-python",
   "name": "python",
   "nbconvert_exporter": "python",
   "pygments_lexer": "ipython3",
   "version": "3.7.0"
  }
 },
 "nbformat": 4,
 "nbformat_minor": 2
}
